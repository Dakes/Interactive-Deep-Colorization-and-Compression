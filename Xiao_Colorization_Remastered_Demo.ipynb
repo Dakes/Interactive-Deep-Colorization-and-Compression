{
 "cells": [
  {
   "cell_type": "markdown",
   "metadata": {
    "id": "0CKMUgTMcpSC"
   },
   "source": [
    "# Interactive Deep Colorization and its Application for Image Compression DEMO (TF 1.X)\n",
    "\n",
    "A modern port of https://github.com/praywj/Interactive-Deep-Colorization-and-Compression.\n",
    "\n",
    "Paper: https://www.computer.org/csdl/journal/tg/5555/01/09186041/1mP2JjLRhDy"
   ]
  },
  {
   "cell_type": "markdown",
   "metadata": {
    "id": "YYE2mOggcusR"
   },
   "source": [
    "## Enabling and testing the GPU\n",
    "\n",
    "First, you'll need to enable GPUs for the notebook:\n",
    "\n",
    "- Navigate to Edit→Notebook Settings\n",
    "- select GPU from the Hardware Accelerator drop-down\n",
    "\n",
    "Next, we'll confirm that we can connect to the GPU with tensorflow:"
   ]
  },
  {
   "cell_type": "markdown",
   "metadata": {
    "id": "0QsrtIPIcyn4"
   },
   "source": [
    "## Merge Project (requires Google Drive Access!)"
   ]
  },
  {
   "cell_type": "code",
   "execution_count": null,
   "metadata": {
    "colab": {
     "base_uri": "https://localhost:8080/"
    },
    "executionInfo": {
     "elapsed": 21520,
     "status": "ok",
     "timestamp": 1646864503801,
     "user": {
      "displayName": "Daniel Riemann",
      "photoUrl": "https://lh3.googleusercontent.com/a/default-user=s64",
      "userId": "15512109570003382042"
     },
     "user_tz": -60
    },
    "id": "1pEA_y6Bcnca",
    "outputId": "a92391f0-87f2-4324-a554-76073e58bfb9"
   },
   "outputs": [],
   "source": [
    "import sys\n",
    "import os\n",
    "# adjust path as required!\n",
    "\n",
    "_BASE_PATH = \"\"\n",
    "# google colab (create link of Paper_Sibiu to own drive first)\n",
    "if 'google.colab' in str(get_ipython()):\n",
    "    _BASE_PATH = \"/content/drive/MyDrive/Paper_Sibiu/Interactive-Deep-Colorization-and-Compression-tf/\"\n",
    "    from google.colab import drive\n",
    "    if not os.path.isdir('/content/drive'):\n",
    "        drive.mount('/content/drive')\n",
    "# local\n",
    "else:\n",
    "    # _BASE_PATH = \"~/Documents/ICDD/Interactive-Deep-Colorization-and-Compression/\"\n",
    "    _BASE_PATH = \"/home/kiadmin/projects/Interactive-Deep-Colorization-and-Compression/\"\n",
    "\n",
    "\n",
    "try:\n",
    "    os.chdir(_BASE_PATH)\n",
    "except FileNotFoundError as ex:\n",
    "    # presumably already started in correct folder\n",
    "    _BASE_PATH = \"\"\n",
    "    # sys.path.extend(\".\")\n",
    "\n",
    "sys.path.extend([_BASE_PATH])"
   ]
  },
  {
   "cell_type": "code",
   "execution_count": null,
   "metadata": {
    "executionInfo": {
     "elapsed": 7630,
     "status": "ok",
     "timestamp": 1646864516749,
     "user": {
      "displayName": "Daniel Riemann",
      "photoUrl": "https://lh3.googleusercontent.com/a/default-user=s64",
      "userId": "15512109570003382042"
     },
     "user_tz": -60
    },
    "id": "f572wMvNf5Tb"
   },
   "outputs": [],
   "source": [
    "import os\n",
    "import cv2\n",
    "import numpy as np\n",
    "import matplotlib.pyplot as plt\n",
    "\n",
    "if 'google.colab' in str(get_ipython()):\n",
    "    # %tensorflow_version 1.x\n",
    "    %tensorflow_version 2.x\n",
    "\n",
    "import tensorflow as tf\n",
    "from skimage.metrics import peak_signal_noise_ratio\n",
    "from src.colorization import input_data, model\n",
    "\n",
    "from src.dinterface.preprocess import run"
   ]
  },
  {
   "cell_type": "code",
   "execution_count": null,
   "metadata": {},
   "outputs": [],
   "source": [
    "gpus = tf.config.experimental.list_physical_devices('GPU')\n",
    "\n",
    "print(\"Num GPUs Available: \", len(gpus))\n",
    "for gpu in gpus:\n",
    "    print(\"Name:\", gpu.name, \"  Type:\", gpu.device_type)"
   ]
  },
  {
   "cell_type": "code",
   "execution_count": null,
   "metadata": {},
   "outputs": [],
   "source": []
  },
  {
   "cell_type": "code",
   "execution_count": null,
   "metadata": {},
   "outputs": [],
   "source": [
    "# Limit to one GPU\n",
    "\"\"\"\n",
    "gpus = tf.config.list_physical_devices('GPU')\n",
    "gpus\n",
    "try:\n",
    "    tf.config.set_visible_devices(gpus[0], 'GPU')\n",
    "    logical_gpus = tf.config.list_logical_devices('GPU')\n",
    "    print(len(gpus), \"Physical GPUs,\", len(logical_gpus), \"Logical GPU\")\n",
    "except RuntimeError as e:\n",
    "    # Visible devices must be set before GPUs have been initialized\n",
    "    print(e)\n",
    "\"\"\""
   ]
  },
  {
   "cell_type": "code",
   "execution_count": null,
   "metadata": {},
   "outputs": [],
   "source": [
    "# Limit memory growth\n",
    "\n",
    "gpus = tf.config.list_physical_devices('GPU')\n",
    "if gpus:\n",
    "  try:\n",
    "    # Currently, memory growth needs to be the same across GPUs\n",
    "    for gpu in gpus:\n",
    "      tf.config.experimental.set_memory_growth(gpu, True)\n",
    "    logical_gpus = tf.config.list_logical_devices('GPU')\n",
    "    print(len(gpus), \"Physical GPUs,\", len(logical_gpus), \"Logical GPUs\")\n",
    "  except RuntimeError as e:\n",
    "    # Memory growth must be set before GPUs have been initialized\n",
    "    print(e)\n"
   ]
  },
  {
   "cell_type": "markdown",
   "metadata": {
    "id": "ItOUKCaGmcnz"
   },
   "source": [
    "## Run Pretrained Colorization Pipeline on Sample Image"
   ]
  },
  {
   "cell_type": "markdown",
   "metadata": {
    "id": "Sn5RzUEjoLFL"
   },
   "source": [
    "**Step 1:** Prepare Sample Data"
   ]
  },
  {
   "cell_type": "code",
   "execution_count": null,
   "metadata": {
    "colab": {
     "base_uri": "https://localhost:8080/"
    },
    "executionInfo": {
     "elapsed": 22506,
     "status": "ok",
     "timestamp": 1646864564826,
     "user": {
      "displayName": "Daniel Riemann",
      "photoUrl": "https://lh3.googleusercontent.com/a/default-user=s64",
      "userId": "15512109570003382042"
     },
     "user_tz": -60
    },
    "id": "RU-xykYwc3rw",
    "outputId": "37dcc7b9-3531-4d23-ef9c-9aa30c99d8a2"
   },
   "outputs": [],
   "source": [
    "# _BASE_PATH = '/content/drive/MyDrive/Paper_Sibiu/Interactive-Deep-Colorization-and-Compression-tf/'\n",
    "\n",
    "_EVAL_IMG_RGB = _BASE_PATH + 'res/eval/image_color_dir/'\n",
    "_EVAL_THEME_RGB = _BASE_PATH + 'res/eval/theme_dir/'\n",
    "_EVAL_MASK = _BASE_PATH + 'res/eval/theme_mask_dir/'\n",
    "_EVAL_COLOR_MAP_DIR = _BASE_PATH + 'res/eval/color_map_dir/'\n",
    "_EVAL_POINTS_RGB = _BASE_PATH + 'res/eval/local_dir/'\n",
    "_EVAL_POINTS_MASK = _BASE_PATH + 'res/eval/local_mask_dir/'\n",
    "\n",
    "_IMG_NAME = \"20191106_165848_Lijiang_0934_crop_1024x1024.png\"  # img_rgb.png\n",
    "\n",
    "_IMG_SIZE_H = 1024  # 256\n",
    "_IMG_SIZE_W = 1024  # 256\n",
    "\n",
    "_IN_DIR = _EVAL_IMG_RGB\n",
    "_OUT_DIR = _BASE_PATH + 'res/eval/'\n",
    "\n",
    "# generate random global (6/7 possible colors) + local points (100 random colors)\n",
    "# adjust to your needs\n",
    "run(_IN_DIR, _OUT_DIR, num_points_pix=1000, num_points_theme=6, random_crop=False)"
   ]
  },
  {
   "cell_type": "markdown",
   "metadata": {
    "id": "22GcZ_oWoaUq"
   },
   "source": [
    "**Step 2:** Visualize Data"
   ]
  },
  {
   "cell_type": "code",
   "execution_count": null,
   "metadata": {
    "colab": {
     "base_uri": "https://localhost:8080/",
     "height": 269
    },
    "executionInfo": {
     "elapsed": 1041,
     "status": "ok",
     "timestamp": 1646864572960,
     "user": {
      "displayName": "Daniel Riemann",
      "photoUrl": "https://lh3.googleusercontent.com/a/default-user=s64",
      "userId": "15512109570003382042"
     },
     "user_tz": -60
    },
    "id": "prXiOy9docAh",
    "outputId": "a79905c2-45e3-4b6b-91bb-8574462e3946"
   },
   "outputs": [],
   "source": [
    "# original image\n",
    "sample_img_BGR_orig = cv2.imread(_IN_DIR + _IMG_NAME)\n",
    "sample_img_RGB_orig = cv2.cvtColor(sample_img_BGR_orig, cv2.COLOR_BGR2RGB)\n",
    "\n",
    "plt.imshow(sample_img_RGB_orig)\n",
    "plt.show()"
   ]
  },
  {
   "cell_type": "code",
   "execution_count": null,
   "metadata": {
    "colab": {
     "base_uri": "https://localhost:8080/",
     "height": 100
    },
    "executionInfo": {
     "elapsed": 542,
     "status": "ok",
     "timestamp": 1646864584593,
     "user": {
      "displayName": "Daniel Riemann",
      "photoUrl": "https://lh3.googleusercontent.com/a/default-user=s64",
      "userId": "15512109570003382042"
     },
     "user_tz": -60
    },
    "id": "vVC8DzKqqkw3",
    "outputId": "d6c687f8-b600-46d5-977d-ee96548f156a"
   },
   "outputs": [],
   "source": [
    "# theme image (kmeans colors)\n",
    "sample_img_BGR = cv2.imread(_EVAL_THEME_RGB + _IMG_NAME)\n",
    "sample_img_RGB = cv2.cvtColor(sample_img_BGR, cv2.COLOR_BGR2RGB)\n",
    "\n",
    "plt.imshow(sample_img_RGB)\n",
    "plt.show()"
   ]
  },
  {
   "cell_type": "code",
   "execution_count": null,
   "metadata": {
    "colab": {
     "base_uri": "https://localhost:8080/",
     "height": 100
    },
    "executionInfo": {
     "elapsed": 843,
     "status": "ok",
     "timestamp": 1646864596366,
     "user": {
      "displayName": "Daniel Riemann",
      "photoUrl": "https://lh3.googleusercontent.com/a/default-user=s64",
      "userId": "15512109570003382042"
     },
     "user_tz": -60
    },
    "id": "69hgOHnPrARu",
    "outputId": "7fb24cf5-4a01-413b-85fe-88fb237815f3"
   },
   "outputs": [],
   "source": [
    "# theme image mask\n",
    "sample_img_BGR = cv2.imread(_EVAL_MASK + _IMG_NAME)\n",
    "sample_img_RGB = cv2.cvtColor(sample_img_BGR, cv2.COLOR_BGR2RGB)\n",
    "\n",
    "plt.imshow(sample_img_RGB)\n",
    "plt.show()"
   ]
  },
  {
   "cell_type": "code",
   "execution_count": null,
   "metadata": {
    "colab": {
     "base_uri": "https://localhost:8080/",
     "height": 269
    },
    "executionInfo": {
     "elapsed": 615,
     "status": "ok",
     "timestamp": 1646864600966,
     "user": {
      "displayName": "Daniel Riemann",
      "photoUrl": "https://lh3.googleusercontent.com/a/default-user=s64",
      "userId": "15512109570003382042"
     },
     "user_tz": -60
    },
    "id": "NebILmUaoybA",
    "outputId": "b1d629e2-eac9-49ed-a880-3d18633b39c4"
   },
   "outputs": [],
   "source": [
    "# color map\n",
    "sample_img_BGR = cv2.imread(_EVAL_COLOR_MAP_DIR + _IMG_NAME)\n",
    "sample_img_RGB = cv2.cvtColor(sample_img_BGR, cv2.COLOR_BGR2RGB)\n",
    "\n",
    "plt.imshow(sample_img_RGB)\n",
    "plt.show()"
   ]
  },
  {
   "cell_type": "code",
   "execution_count": null,
   "metadata": {
    "colab": {
     "base_uri": "https://localhost:8080/",
     "height": 595
    },
    "executionInfo": {
     "elapsed": 716,
     "status": "ok",
     "timestamp": 1646864629056,
     "user": {
      "displayName": "Daniel Riemann",
      "photoUrl": "https://lh3.googleusercontent.com/a/default-user=s64",
      "userId": "15512109570003382042"
     },
     "user_tz": -60
    },
    "id": "1TUKxasPqA4k",
    "outputId": "64c0c4a7-7c6d-4609-c311-be15f03e78b4"
   },
   "outputs": [],
   "source": [
    "# simulated user inputs (boolean mask)\n",
    "sample_img_BGR = cv2.imread(_EVAL_POINTS_MASK + _IMG_NAME)\n",
    "sample_img_RGB = cv2.cvtColor(sample_img_BGR, cv2.COLOR_BGR2RGB)\n",
    "\n",
    "# increase size, if pixels aren't visible, due to low resolution\n",
    "plt.figure(figsize = (10,10))\n",
    "\n",
    "plt.imshow(sample_img_RGB)\n",
    "plt.show()"
   ]
  },
  {
   "cell_type": "code",
   "execution_count": null,
   "metadata": {
    "colab": {
     "base_uri": "https://localhost:8080/",
     "height": 595
    },
    "executionInfo": {
     "elapsed": 769,
     "status": "ok",
     "timestamp": 1646864637885,
     "user": {
      "displayName": "Daniel Riemann",
      "photoUrl": "https://lh3.googleusercontent.com/a/default-user=s64",
      "userId": "15512109570003382042"
     },
     "user_tz": -60
    },
    "id": "tInpN4tRqfud",
    "outputId": "e3a1fab0-62e5-4387-ce8b-e03e78de3e09"
   },
   "outputs": [],
   "source": [
    "# simulated user colors (RGB)\n",
    "sample_img_BGR = cv2.imread(_EVAL_POINTS_RGB + _IMG_NAME)\n",
    "sample_img_RGB = cv2.cvtColor(sample_img_BGR, cv2.COLOR_BGR2RGB)\n",
    "\n",
    "plt.figure(figsize = (10,10))\n",
    "plt.imshow(sample_img_RGB)\n",
    "plt.show()"
   ]
  },
  {
   "cell_type": "markdown",
   "metadata": {
    "id": "yHAvJt_qrUyk"
   },
   "source": [
    "**Step 3:** Run Colorization Pipeline"
   ]
  },
  {
   "cell_type": "code",
   "execution_count": null,
   "metadata": {},
   "outputs": [],
   "source": [
    "logs_ckpts_run_3 = _LOGS_DIR + 'run_3/'\n",
    "logs_ckpts_run_3_tf2 = _LOGS_DIR + 'run_3_tf2/' \n",
    "logs_ckpts_run_3\n",
    "ckpt = tf.train.get_checkpoint_state(logs_ckpts_run_3)"
   ]
  },
  {
   "cell_type": "code",
   "execution_count": null,
   "metadata": {},
   "outputs": [],
   "source": [
    "\"\"\"\n",
    "from tensorflow.compat.v1 import ConfigProto\n",
    "from tensorflow.compat.v1 import InteractiveSession\n",
    "\n",
    "config = ConfigProto()\n",
    "config.gpu_options.allow_growth = True\n",
    "session = InteractiveSession(config=config)\n",
    "\"\"\""
   ]
  },
  {
   "cell_type": "code",
   "execution_count": null,
   "metadata": {
    "executionInfo": {
     "elapsed": 200,
     "status": "ok",
     "timestamp": 1646864655171,
     "user": {
      "displayName": "Daniel Riemann",
      "photoUrl": "https://lh3.googleusercontent.com/a/default-user=s64",
      "userId": "15512109570003382042"
     },
     "user_tz": -60
    },
    "id": "JcjcyV2tq6z1"
   },
   "outputs": [],
   "source": [
    "_LOGS_DIR = _BASE_PATH + 'res/logs/'\n",
    "_SAVE_PATH = _BASE_PATH + 'res/eval/'\n",
    "\n",
    "def eval_colorization():\n",
    "    capacity = 1000\n",
    "    img_size_h, img_size_w = (_IMG_SIZE_H, _IMG_SIZE_W)\n",
    "    batch_size = 1\n",
    "    save_path = _SAVE_PATH + 'generated_color'\n",
    "    # pretrained model\n",
    "    logs_ckpts_run_3 = _LOGS_DIR + 'run_3/'\n",
    "    logs_ckpts_run_3 = \"/home/kiadmin/projects/Interactive-Deep-Colorization-and-Compression/res/logs/run_3/\"\n",
    "\n",
    "    # because of migration from tf 1.x -> 2.x\n",
    "    tf.compat.v1.disable_eager_execution()\n",
    "    sess = tf.compat.v1.Session()\n",
    "    train_list = input_data.get_train_list(\n",
    "        [_EVAL_IMG_RGB, _EVAL_THEME_RGB, _EVAL_MASK, _EVAL_COLOR_MAP_DIR, _EVAL_POINTS_RGB, _EVAL_POINTS_MASK],\n",
    "        ['color img', 'theme img', 'theme mask', 'color_map img', 'local img', 'local mask'],\n",
    "        ['*', '*', 'png', 'png', 'png', 'png'], shuffle=False)\n",
    "\n",
    "    image_rgb_batch, theme_rgb_batch, theme_mask_batch, index_rgb_batch, point_rgb_batch, point_mask_batch = \\\n",
    "        input_data.get_batch(train_list, (img_size_h, img_size_w), batch_size, capacity, False)\n",
    "\n",
    "    image_lab_batch = input_data.rgb_to_lab(image_rgb_batch)\n",
    "    image_l_batch = tf.reshape(image_lab_batch[:, :, :, 0] / 100.0 * 2 - 1, [batch_size, img_size_h, img_size_w, 1])\n",
    "    image_l_gra_batch = model.sobel(image_l_batch)\n",
    "\n",
    "    theme_lab_batch = input_data.rgb_to_lab(theme_rgb_batch)\n",
    "    theme_ab_batch = (theme_lab_batch[:, :, :, 1:] + 128.) / 255.0 * 2 - 1\n",
    "\n",
    "    point_lab_batch = input_data.rgb_to_lab(point_rgb_batch)\n",
    "    point_ab_batch = (point_lab_batch[:, :, :, 1:] + 128.) / 255.0 * 2 - 1\n",
    "\n",
    "    # TODO: colorization\n",
    "    out_ab_batch = model.inference3_1(image_l_batch, image_l_gra_batch, theme_ab_batch, theme_mask_batch,\n",
    "                                      point_ab_batch, point_mask_batch,\n",
    "                                      is_training=False, scope_name='UserGuide')\n",
    "    # TODO: residual network\n",
    "    _, out_ab_batch2 = model.gen_PRLNet(out_ab_batch, image_l_batch, 2, scope_name='PRLNet')\n",
    "    test_rgb_out2 = \\\n",
    "        input_data.lab_to_rgb(\n",
    "            tf.concat([(image_l_batch + 1.) / 2 * 100., (out_ab_batch2 + 1.) / 2 * 255. - 128], axis=3))\n",
    "\n",
    "    var_list = tf.compat.v1.global_variables()\n",
    "    var_model1 = [var for var in var_list if var.name.startswith('UserGuide')]\n",
    "    var_model2 = [var for var in var_list if var.name.startswith('PRLNet')]\n",
    "    var_total = var_model1 + var_model2\n",
    "    paras_count1 = tf.reduce_sum([tf.reduce_prod(v.shape) for v in var_model1])\n",
    "    paras_count2 = tf.reduce_sum([tf.reduce_prod(v.shape) for v in var_model2])\n",
    "    print('UserGuide Number of parameters 参数数目: %d' % sess.run(paras_count1))\n",
    "    print('Detailed Number of parameters 参数数目: %d' % sess.run(paras_count2))\n",
    "\n",
    "    saver1 = tf.compat.v1.train.Saver(var_list=var_total)\n",
    "    print('Load checkpoint | 载入检查点...')\n",
    "    ckpt = tf.train.get_checkpoint_state(logs_ckpts_run_3)\n",
    "    # print(ckpt)\n",
    "    if ckpt and ckpt.model_checkpoint_path:\n",
    "        global_step = ckpt.model_checkpoint_path.split('/')[-1].split('-')[-1]\n",
    "        saver1.restore(sess, ckpt.model_checkpoint_path)\n",
    "        print('Loaded successfully | 载入成功, global_step = %s' % global_step)\n",
    "    else:\n",
    "        print('Failed to load | 载入失败')\n",
    "\n",
    "    coord = tf.train.Coordinator()\n",
    "    threads = tf.compat.v1.train.start_queue_runners(sess=sess, coord=coord)\n",
    "    # compute the average psnr\n",
    "    avg_psnr = 0.\n",
    "    avg_ms_ssim = 0.\n",
    "    if not os.path.exists(save_path):\n",
    "        os.makedirs(save_path)\n",
    "    try:\n",
    "        for t in range(len(train_list[0])):\n",
    "            in_rgb, out_rgb2 = sess.run([image_rgb_batch, test_rgb_out2])\n",
    "            in_rgb = in_rgb[0]\n",
    "            out_rgb2 = out_rgb2[0]\n",
    "            psnr = peak_signal_noise_ratio(out_rgb2, in_rgb)\n",
    "            avg_psnr += psnr\n",
    "            plt.imsave(save_path + '/' + train_list[0][t].split('/')[-1], out_rgb2)\n",
    "            print('%s\\n' % str(psnr))\n",
    "\n",
    "        print('avg_psnr = %s' % str(avg_psnr / len(train_list[0])))\n",
    "\n",
    "    except tf.errors.OutOfRangeError:\n",
    "        print('Done.')\n",
    "    finally:\n",
    "        coord.request_stop()\n",
    "\n",
    "    # Wait for the thread to end\n",
    "    coord.join(threads=threads)\n",
    "    sess.close()"
   ]
  },
  {
   "cell_type": "code",
   "execution_count": null,
   "metadata": {
    "colab": {
     "base_uri": "https://localhost:8080/"
    },
    "executionInfo": {
     "elapsed": 52563,
     "status": "ok",
     "timestamp": 1646864715987,
     "user": {
      "displayName": "Daniel Riemann",
      "photoUrl": "https://lh3.googleusercontent.com/a/default-user=s64",
      "userId": "15512109570003382042"
     },
     "user_tz": -60
    },
    "id": "5oQk6Yhpue9W",
    "outputId": "4ca24e59-c6e3-4ca5-ab3f-e9afa238d1e2"
   },
   "outputs": [],
   "source": [
    "eval_colorization()"
   ]
  },
  {
   "cell_type": "markdown",
   "metadata": {
    "id": "-SVcjAvK1NLl"
   },
   "source": [
    "**Step 4:** Visualize Reconstruction/ Error Map"
   ]
  },
  {
   "cell_type": "code",
   "execution_count": null,
   "metadata": {
    "colab": {
     "base_uri": "https://localhost:8080/",
     "height": 595
    },
    "executionInfo": {
     "elapsed": 1972,
     "status": "ok",
     "timestamp": 1646864734710,
     "user": {
      "displayName": "Daniel Riemann",
      "photoUrl": "https://lh3.googleusercontent.com/a/default-user=s64",
      "userId": "15512109570003382042"
     },
     "user_tz": -60
    },
    "id": "ZF8YUgYyu0vD",
    "outputId": "ae42f26a-843e-4be1-a02f-61b8d575556c"
   },
   "outputs": [],
   "source": [
    "# reconstructed image\n",
    "print(_SAVE_PATH + 'generated_color/' +  _IMG_NAME)\n",
    "sample_img_BGR = cv2.imread(_SAVE_PATH + 'generated_color/' +  _IMG_NAME)\n",
    "sample_img_RGB = cv2.cvtColor(sample_img_BGR, cv2.COLOR_BGR2RGB)\n",
    "\n",
    "plt.figure(figsize = (10,10))\n",
    "plt.imshow(sample_img_RGB)\n",
    "plt.show()"
   ]
  },
  {
   "cell_type": "code",
   "execution_count": null,
   "metadata": {
    "colab": {
     "base_uri": "https://localhost:8080/",
     "height": 612
    },
    "executionInfo": {
     "elapsed": 1497,
     "status": "ok",
     "timestamp": 1646864744585,
     "user": {
      "displayName": "Daniel Riemann",
      "photoUrl": "https://lh3.googleusercontent.com/a/default-user=s64",
      "userId": "15512109570003382042"
     },
     "user_tz": -60
    },
    "id": "mktNnTS51ZWb",
    "outputId": "78d0b778-91f1-4b0f-8aaa-b1408d3a9c75"
   },
   "outputs": [],
   "source": [
    "# absolute differences (white spots reveal largest error sections)\n",
    "sample_img_RGB_orig = tf.cast(sample_img_RGB_orig, tf.float32)\n",
    "sample_img_RGB = tf.cast(sample_img_RGB, tf.float32)\n",
    "\n",
    "error_map_RGB = tf.reduce_mean(abs(sample_img_RGB_orig - sample_img_RGB), axis=-1)\n",
    "tf.compat.v1.train.start_queue_runners\n",
    "sess = tf.compat.v1.Session().run(error_map_RGB)\n",
    "# error_map_RGB = tf.Session().run(error_map_RGB)\n",
    "print(error_map_RGB.shape)\n",
    "\n",
    "from tensorflow.python.keras import backend\n",
    "sess = backend.get_session()\n",
    "error_map_RGB_array = sess.run(error_map_RGB)\n",
    "\n",
    "plt.figure(figsize = (10,10))\n",
    "plt.imshow(error_map_RGB_array, cmap='gray')\n",
    "plt.show()"
   ]
  },
  {
   "cell_type": "code",
   "execution_count": null,
   "metadata": {
    "id": "4XFWruf_138Z"
   },
   "outputs": [],
   "source": []
  },
  {
   "cell_type": "code",
   "execution_count": null,
   "metadata": {},
   "outputs": [],
   "source": []
  }
 ],
 "metadata": {
  "accelerator": "GPU",
  "colab": {
   "collapsed_sections": [],
   "name": "Xiao_Colorization_Remastered_Demo.ipynb",
   "provenance": []
  },
  "kernelspec": {
   "display_name": "Python 3 (ipykernel)",
   "language": "python",
   "name": "python3"
  },
  "language_info": {
   "codemirror_mode": {
    "name": "ipython",
    "version": 3
   },
   "file_extension": ".py",
   "mimetype": "text/x-python",
   "name": "python",
   "nbconvert_exporter": "python",
   "pygments_lexer": "ipython3",
   "version": "3.9.7"
  }
 },
 "nbformat": 4,
 "nbformat_minor": 4
}
